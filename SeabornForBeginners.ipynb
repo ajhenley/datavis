{
 "cells": [
  {
   "cell_type": "code",
   "execution_count": null,
   "metadata": {
    "collapsed": true
   },
   "outputs": [],
   "source": [
    "# Import the necessary libraries\n",
    "import matplotlib.pyplot as plt\n",
    "import pandas as pd\n",
    "\n",
    "# Initialize Figure and Axes object\n",
    "fig, ax = plt.subplots()\n",
    "\n",
    "# Load in data\n",
    "tips = pd.read_csv(\"tips.csv\")\n",
    "\n",
    "# Create violinplot\n",
    "ax.violinplot(tips[\"total_bill\"], vert=False)\n",
    "\n",
    "# Show the plot\n",
    "plt.show()"
   ]
  },
  {
   "cell_type": "code",
   "execution_count": null,
   "metadata": {
    "collapsed": true
   },
   "outputs": [],
   "source": [
    "# Import the necessary libraries\n",
    "import matplotlib.pyplot as plt\n",
    "import seaborn as sns\n",
    "\n",
    "# Load the data\n",
    "tips = sns.load_dataset(\"tips\")\n",
    "\n",
    "# Create violinplot\n",
    "sns.violinplot(x = \"total_bill\", data=tips)\n",
    "\n",
    "# Show the plot\n",
    "plt.show()"
   ]
  },
  {
   "cell_type": "code",
   "execution_count": null,
   "metadata": {
    "collapsed": true
   },
   "outputs": [],
   "source": [
    "# Import necessary libraries\n",
    "import seaborn as sns\n",
    "import matplotlib.pyplot as plt\n",
    "\n",
    "# Load iris data\n",
    "iris = sns.load_dataset(\"iris\")\n",
    "\n",
    "# Construct iris plot\n",
    "sns.swarmplot(x=\"species\", y=\"petal_length\", data=iris)\n",
    "\n",
    "# Show plot\n",
    "plt.show()"
   ]
  },
  {
   "cell_type": "code",
   "execution_count": null,
   "metadata": {
    "collapsed": true
   },
   "outputs": [],
   "source": [
    "# Import necessarily libraries\n",
    "import matplotlib.pyplot as plt\n",
    "import seaborn as sns\n",
    "\n",
    "# Load data\n",
    "titanic = sns.load_dataset(\"titanic\")\n",
    "\n",
    "# Set up a factorplot\n",
    "g = sns.factorplot(\"class\", \"survived\", \"sex\", data=titanic, kind=\"bar\", palette=\"muted\", legend=False)\n",
    "                   \n",
    "# Show plot\n",
    "plt.show()"
   ]
  },
  {
   "cell_type": "code",
   "execution_count": null,
   "metadata": {
    "collapsed": true
   },
   "outputs": [],
   "source": [
    "# Import Matplotlib\n",
    "import matplotlib.pyplot as plt\n",
    "\n",
    "# Check the available styles\n",
    "plt.style.available\n",
    "\n",
    "# Use Matplotlib defaults\n",
    "plt.style.use(\"classic\")"
   ]
  },
  {
   "cell_type": "code",
   "execution_count": null,
   "metadata": {
    "collapsed": true
   },
   "outputs": [],
   "source": [
    "# Import the necessary libraries\n",
    "import seaborn as sns\n",
    "import matplotlib.pyplot as plt\n",
    "import numpy as np\n",
    "from matplotlib.colors import ListedColormap\n",
    "\n",
    "# Define a variable N\n",
    "N = 500\n",
    "\n",
    "# Construct the colormap\n",
    "current_palette = sns.color_palette(\"muted\", n_colors=5)\n",
    "cmap = ListedColormap(sns.color_palette(current_palette).as_hex())\n",
    "\n",
    "# Initialize the data\n",
    "data1 = np.random.randn(N)\n",
    "data2 = np.random.randn(N)\n",
    "# Assume that there are 5 possible labels\n",
    "colors = np.random.randint(0,5,N)\n",
    "\n",
    "# Create a scatter plot\n",
    "plt.scatter(data1, data2, c=colors, cmap=cmap)\n",
    "\n",
    "# Add a color bar\n",
    "plt.colorbar()\n",
    "\n",
    "# Show the plot\n",
    "plt.show()"
   ]
  },
  {
   "cell_type": "code",
   "execution_count": null,
   "metadata": {
    "collapsed": true
   },
   "outputs": [],
   "source": [
    "# Import necessary libraries\n",
    "import matplotlib.pyplot as plt\n",
    "import seaborn as sns\n",
    "\n",
    "# Reset default params\n",
    "sns.set()\n",
    "\n",
    "# Set context to `\"paper\"`\n",
    "sns.set_context(\"paper\")\n",
    "\n",
    "# Load iris data\n",
    "iris = sns.load_dataset(\"iris\")\n",
    "\n",
    "# Construct iris plot\n",
    "sns.swarmplot(x=\"species\", y=\"petal_length\", data=iris)\n",
    "\n",
    "# Show plot\n",
    "plt.show()"
   ]
  },
  {
   "cell_type": "code",
   "execution_count": null,
   "metadata": {
    "collapsed": true
   },
   "outputs": [],
   "source": [
    "# Import necessary libraries\n",
    "import matplotlib.pyplot as plt\n",
    "import seaborn as sns\n",
    "\n",
    "# Set context to `\"paper\"`\n",
    "sns.set_context(\"paper\", font_scale=3, rc={\"font.size\":8,\"axes.labelsize\":5})\n",
    "\n",
    "# Load iris data\n",
    "iris = sns.load_dataset(\"iris\")\n",
    "\n",
    "# Construct iris plot\n",
    "sns.swarmplot(x=\"species\", y=\"petal_length\", data=iris)\n",
    "\n",
    "# Show plot\n",
    "plt.show()"
   ]
  },
  {
   "cell_type": "code",
   "execution_count": null,
   "metadata": {
    "collapsed": true
   },
   "outputs": [],
   "source": [
    "# Import necessary libraries\n",
    "import matplotlib.pyplot as plt\n",
    "import seaborn as sns\n",
    "\n",
    "# Reset default params\n",
    "sns.set(rc={\"font.size\":8,\"axes.labelsize\":5})\n",
    "\n",
    "# Load iris data\n",
    "iris = sns.load_dataset(\"iris\")\n",
    "\n",
    "# Construct iris plot\n",
    "sns.swarmplot(x=\"species\", y=\"petal_length\", data=iris)\n",
    "\n",
    "# Show plot\n",
    "plt.show()"
   ]
  },
  {
   "cell_type": "code",
   "execution_count": null,
   "metadata": {
    "collapsed": true
   },
   "outputs": [],
   "source": [
    "# Import necessary libraries\n",
    "import matplotlib.pyplot as plt\n",
    "import seaborn as sns\n",
    "\n",
    "# Load data\n",
    "iris = sns.load_dataset(\"iris\")\n",
    "tips = sns.load_dataset(\"tips\")\n",
    "\n",
    "# Set axes style to white for first subplot\n",
    "with sns.axes_style(\"white\"):\n",
    "    plt.subplot(211)\n",
    "    sns.swarmplot(x=\"species\", y=\"petal_length\", data=iris)\n",
    "\n",
    "# Initialize second subplot\n",
    "plt.subplot(212)\n",
    "\n",
    "# Plot violinplot\n",
    "sns.violinplot(x = \"total_bill\", data=tips)\n",
    "\n",
    "# Show the plot                   \n",
    "plt.show()"
   ]
  },
  {
   "cell_type": "code",
   "execution_count": null,
   "metadata": {
    "collapsed": true
   },
   "outputs": [],
   "source": [
    "# Import necessary libraries\n",
    "import seaborn as sns\n",
    "import matplotlib.pyplot as plt\n",
    "\n",
    "# Initialize Figure and Axes object\n",
    "fig, ax = plt.subplots(figsize=(10,4))\n",
    "\n",
    "# Load in the data\n",
    "iris = sns.load_dataset(\"iris\")\n",
    "\n",
    "# Create swarmplot\n",
    "sns.swarmplot(x=\"species\", y=\"petal_length\", data=iris, ax=ax)\n",
    "\n",
    "# Show plot\n",
    "plt.show()"
   ]
  },
  {
   "cell_type": "code",
   "execution_count": null,
   "metadata": {
    "collapsed": true
   },
   "outputs": [],
   "source": [
    "# Import the libraries\n",
    "import matplotlib.pyplot as plt\n",
    "import seaborn as sns \n",
    "\n",
    "# Load data\n",
    "titanic = sns.load_dataset(\"titanic\")\n",
    "\n",
    "# Set up a factorplot\n",
    "g = sns.factorplot(\"class\", \"survived\", \"sex\", data=titanic, kind=\"bar\", size=6, aspect=2, palette=\"muted\", legend=False)\n",
    "\n",
    "# Show plot\n",
    "plt.show()"
   ]
  },
  {
   "cell_type": "code",
   "execution_count": null,
   "metadata": {
    "collapsed": true
   },
   "outputs": [],
   "source": [
    "# Import the necessary libraries\n",
    "import matplotlib.pyplot as plt\n",
    "import seaborn as sns \n",
    "import numpy as np\n",
    "import pandas as pd\n",
    "\n",
    "# Initialize the data\n",
    "x = 10 ** np.arange(1, 10)\n",
    "y = x * 2\n",
    "data = pd.DataFrame(data={'x': x, 'y': y})\n",
    "\n",
    "# Create an lmplot\n",
    "grid = sns.lmplot('x', 'y', data, size=7, truncate=True, scatter_kws={\"s\": 100})\n",
    "\n",
    "# Rotate the labels on x-axis\n",
    "grid.set_xticklabels(rotation=30)\n",
    "\n",
    "# Show the plot\n",
    "plt.show()"
   ]
  },
  {
   "cell_type": "code",
   "execution_count": null,
   "metadata": {
    "collapsed": true
   },
   "outputs": [],
   "source": [
    "# Import necessary libraries\n",
    "import seaborn as sns\n",
    "import matplotlib.pyplot as plt\n",
    "\n",
    "# Load the data\n",
    "tips = sns.load_dataset(\"tips\")\n",
    "\n",
    "# Create the boxplot\n",
    "ax = sns.boxplot(x=\"total_bill\", data=tips)\n",
    "\n",
    "# Set the `xlim`\n",
    "ax.set(xlim=(0, 100))\n",
    "\n",
    "# Show the plot\n",
    "plt.show()"
   ]
  },
  {
   "cell_type": "code",
   "execution_count": null,
   "metadata": {
    "collapsed": true
   },
   "outputs": [],
   "source": [
    "# Import the necessary libraries\n",
    "import matplotlib.pyplot as plt\n",
    "import seaborn as sns \n",
    "import numpy as np\n",
    "import pandas as pd\n",
    "\n",
    "# Initialize the data\n",
    "x = 10 ** np.arange(1, 10)\n",
    "y = x * 2\n",
    "data = pd.DataFrame(data={'x': x, 'y': y})\n",
    "\n",
    "# Create lmplot\n",
    "lm = sns.lmplot('x', 'y', data, size=7, truncate=True, scatter_kws={\"s\": 100})\n",
    "\n",
    "# Get hold of the `Axes` objects\n",
    "axes = lm.ax\n",
    "\n",
    "# Tweak the `Axes` properties\n",
    "axes.set_ylim(-1000000000,)\n",
    "\n",
    "# Show the plot\n",
    "plt.show()"
   ]
  },
  {
   "cell_type": "code",
   "execution_count": null,
   "metadata": {
    "collapsed": true
   },
   "outputs": [],
   "source": [
    "# Import the necessary libraries\n",
    "import matplotlib.pyplot as plt\n",
    "import seaborn as sns \n",
    "import numpy as np\n",
    "import pandas as pd\n",
    "\n",
    "# Initialize the data\n",
    "x = 10 ** np.arange(1, 10)\n",
    "y = x * 2\n",
    "data = pd.DataFrame(data={'x': x, 'y': y})\n",
    "\n",
    "# Create lmplot\n",
    "lm = sns.lmplot('x', 'y', data, size=7, truncate=True, scatter_kws={\"s\": 100})\n",
    "\n",
    "# Access the Figure\n",
    "fig = lm.fig \n",
    "\n",
    "# Add a title to the Figure\n",
    "fig.suptitle('this is the figure title', fontsize=12)\n",
    "\n",
    "# Show the plot\n",
    "plt.show()"
   ]
  },
  {
   "cell_type": "code",
   "execution_count": null,
   "metadata": {
    "collapsed": true
   },
   "outputs": [],
   "source": [
    "# Import the necessary libraries\n",
    "import matplotlib.pyplot as plt\n",
    "import seaborn as sns \n",
    "import numpy as np\n",
    "import pandas as pd\n",
    "\n",
    "# Create the data\n",
    "x = 10 ** np.arange(1, 10)\n",
    "y = x * 2\n",
    "data = pd.DataFrame(data={'x': x, 'y': y})\n",
    "\n",
    "# Initialize figure and ax\n",
    "fig, ax = plt.subplots()\n",
    "\n",
    "# Set the scale of the x-and y-axes\n",
    "ax.set(xscale=\"log\", yscale=\"log\")\n",
    "\n",
    "# Create a regplot\n",
    "sns.regplot(\"x\", \"y\", data, ax=ax, scatter_kws={\"s\": 100})\n",
    "\n",
    "# Show plot\n",
    "plt.show()"
   ]
  }
 ],
 "metadata": {
  "kernelspec": {
   "display_name": "Python 2",
   "language": "python",
   "name": "python2"
  },
  "language_info": {
   "codemirror_mode": {
    "name": "ipython",
    "version": 2
   },
   "file_extension": ".py",
   "mimetype": "text/x-python",
   "name": "python",
   "nbconvert_exporter": "python",
   "pygments_lexer": "ipython2",
   "version": "2.7.12"
  }
 },
 "nbformat": 4,
 "nbformat_minor": 0
}
